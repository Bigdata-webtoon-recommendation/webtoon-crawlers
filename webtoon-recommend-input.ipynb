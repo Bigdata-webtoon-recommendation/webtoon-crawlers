{
 "cells": [
  {
   "cell_type": "markdown",
   "metadata": {},
   "source": [
    "## 입력할 웹툰 개수를 먼저 입력함"
   ]
  },
  {
   "cell_type": "code",
   "execution_count": null,
   "metadata": {},
   "outputs": [],
   "source": [
    "age = input('나이를 입력하세요: ')\n",
    "\n",
    "likeNum = input('입력할 좋아하는 웹툰 개수를 입력하세요: ')\n",
    "\n",
    "like_list = list()\n",
    "\n",
    "for i in range(int(likeNum)):\n",
    "    like_list.append(input('좋아하는 웹툰을 입력하세요: '))"
   ]
  },
  {
   "cell_type": "markdown",
   "metadata": {},
   "source": [
    "## q를 입력받을 때까지 계속 받음"
   ]
  },
  {
   "cell_type": "code",
   "execution_count": 1,
   "metadata": {},
   "outputs": [
    {
     "name": "stdout",
     "output_type": "stream",
     "text": [
      "나이를 입력하세요: -7\n",
      "좋아하는 웹툰을 입력하세요: adsa\n",
      "좋아하는 웹툰을 입력하세요: sdfdsf\n",
      "좋아하는 웹툰을 입력하세요: dfdf\n",
      "좋아하는 웹툰을 입력하세요: fdd\n",
      "좋아하는 웹툰을 입력하세요: q\n"
     ]
    }
   ],
   "source": [
    "age = input('나이를 입력하세요: ')\n",
    "\n",
    "like_list = list()\n",
    "\n",
    "for i in range(3):\n",
    "    like_list.append(input('좋아하는 웹툰을 입력하세요: '))\n",
    "\n",
    "while 1:\n",
    "    a = input('좋아하는 웹툰을 입력하세요: ')\n",
    "    if a == 'q':\n",
    "        break\n",
    "    else:\n",
    "        like_list.append(a)"
   ]
  },
  {
   "cell_type": "markdown",
   "metadata": {},
   "source": [
    "## 나이 입력하지 않았을 경우 오류 처리"
   ]
  },
  {
   "cell_type": "code",
   "execution_count": null,
   "metadata": {},
   "outputs": [],
   "source": [
    "age = input('나이를 입력하세요: ')\n",
    "\n",
    "while not age.isdigit():\n",
    "    age = input('정확한 나이를 입력하세요: ')\n",
    "    if age.isdigit():\n",
    "        break\n",
    "        \n",
    "age"
   ]
  },
  {
   "cell_type": "markdown",
   "metadata": {},
   "source": [
    "### csv 파일이 안읽혀서 DataFrame 직접 만듦\n",
    "안읽히는 이유: 내 컴퓨터에서 csv 파일 인코딩이 안됨"
   ]
  },
  {
   "cell_type": "code",
   "execution_count": null,
   "metadata": {},
   "outputs": [],
   "source": [
    "import pandas as pd\n",
    "# data = pd.read_csv(\"D:\\\\daum_webtoon_crawling.csv\", sep='\\t')\n",
    "\n",
    "title_list = ['무지개다리 파수꾼', '서천화원', '봄날의 팔광', '뱀파이어님의 대리식사', '현세이의 보이는 라디오']\n",
    "writer_list = [['이서', '이서'],['곡', '마하로'], ['우표', '우표'], ['웬즈데이', '멜리'], ['부족', '이제환']]\n",
    "score_list = [9.877614, 9.668476, 9.573986, 9.465325, 9.884505]\n",
    "age_list = [0, 0, 0, 0, 0]\n",
    "genre_list = [['드라마'], ['순정'], ['순정', '판타지'], ['순정', '판타지'], ['드라마', '일상']]\n",
    "category_list = [['반려동물', '동물', '의학', '스토리'], ['궁', '썸', '의학', '스토리'], ['연애', '전래동화', '사랑', '스토리'], \n",
    "                 ['뱀파이어', '동거', '먹방', '스토리'], ['질병', '사랑', '성장드라마', '학원', '스토리']]\n",
    "\n",
    "webtoonfile = pd.DataFrame({'제목': title_list, \\\n",
    "                            '작가': writer_list, \\\n",
    "                            '평점': score_list, \\\n",
    "                            '연령': age_list, \\\n",
    "                            '장르': genre_list, \\\n",
    "                            '카테고리': category_list})"
   ]
  },
  {
   "cell_type": "code",
   "execution_count": null,
   "metadata": {},
   "outputs": [],
   "source": [
    "like_list = ['무지개다리 파수꾼', '현세이의 보이는 라디오']\n",
    "likelist = list()\n",
    "\n",
    "for i in like_list:\n",
    "    col = webtoonfile['제목'] == i\n",
    "    likelist.append(webtoonfile[col])\n",
    "\n",
    "likelist"
   ]
  }
 ],
 "metadata": {
  "kernelspec": {
   "display_name": "Python 3",
   "language": "python",
   "name": "python3"
  },
  "language_info": {
   "codemirror_mode": {
    "name": "ipython",
    "version": 3
   },
   "file_extension": ".py",
   "mimetype": "text/x-python",
   "name": "python",
   "nbconvert_exporter": "python",
   "pygments_lexer": "ipython3",
   "version": "3.7.6"
  }
 },
 "nbformat": 4,
 "nbformat_minor": 4
}
